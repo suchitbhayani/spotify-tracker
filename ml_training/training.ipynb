{
 "cells": [
  {
   "cell_type": "code",
   "execution_count": 1,
   "id": "dde6a4bc",
   "metadata": {},
   "outputs": [
    {
     "name": "stderr",
     "output_type": "stream",
     "text": [
      "c:\\Users\\ritac\\anaconda3\\envs\\rec_training\\Lib\\site-packages\\lightfm\\_lightfm_fast.py:9: UserWarning: LightFM was compiled without OpenMP support. Only a single thread will be used.\n",
      "  warnings.warn(\n"
     ]
    }
   ],
   "source": [
    "import os\n",
    "import h5py\n",
    "import numpy as np\n",
    "import pandas as pd\n",
    "from lightfm import LightFM\n",
    "from lightfm.data import Dataset\n",
    "import pickle"
   ]
  },
  {
   "cell_type": "code",
   "execution_count": null,
   "id": "87406746",
   "metadata": {},
   "outputs": [],
   "source": [
    "DATASET_PATH = \"../data/MillionSongSubset\""
   ]
  },
  {
   "cell_type": "code",
   "execution_count": 3,
   "id": "3691d907",
   "metadata": {},
   "outputs": [],
   "source": [
    "def safe_decode(value):\n",
    "    \"\"\"Decode bytes to string; leave numbers unchanged.\"\"\"\n",
    "    if isinstance(value, bytes):\n",
    "        return value.decode('utf-8')\n",
    "    elif isinstance(value, np.ndarray) and value.dtype.kind in {'S', 'O'}:\n",
    "        return value[0].decode('utf-8')\n",
    "    return value\n",
    "\n",
    "def extract_track_info(h5_file):\n",
    "    \"\"\"Extract track info and audio features from a .h5 file.\"\"\"\n",
    "    with h5py.File(h5_file, \"r\") as f:\n",
    "        # Metadata\n",
    "        meta = f['metadata/songs'][0]\n",
    "        artist_name = safe_decode(meta['artist_name'])\n",
    "        genre = safe_decode(meta['genre']) if 'genre' in meta.dtype.names else \"unknown\"\n",
    "        \n",
    "        # Analysis features\n",
    "        analysis = f['analysis/songs'][0]\n",
    "        track_id = safe_decode(analysis['track_id'])\n",
    "        tempo = analysis['tempo']\n",
    "        loudness = analysis['loudness']\n",
    "        duration = analysis['duration']\n",
    "        key = analysis['key']\n",
    "        mode = analysis['mode']\n",
    "        time_signature = analysis['time_signature']\n",
    "        \n",
    "    return {\n",
    "        \"track_id\": track_id,\n",
    "        \"artist_name\": artist_name,\n",
    "        \"tempo\": tempo,\n",
    "        \"loudness\": loudness,\n",
    "        \"duration\": duration,\n",
    "        \"key\": key,\n",
    "        \"mode\": mode,\n",
    "        \"time_signature\": time_signature\n",
    "    }"
   ]
  },
  {
   "cell_type": "code",
   "execution_count": null,
   "id": "a033afb3",
   "metadata": {},
   "outputs": [
    {
     "name": "stdout",
     "output_type": "stream",
     "text": [
      "Loaded 10000 tracks\n",
      "Total rows: 10000\n",
      "Unique track_ids: 10000\n",
      "using 10000 samples for training\n"
     ]
    }
   ],
   "source": [
    "tracks = []\n",
    "for root, dirs, files in os.walk(DATASET_PATH):\n",
    "    for file in files:\n",
    "        if file.endswith(\".h5\"):\n",
    "            file_path = os.path.join(root, file)\n",
    "            try:\n",
    "                info = extract_track_info(file_path)\n",
    "                tracks.append(info)\n",
    "            except Exception as e:\n",
    "                print(f\"Failed to read {file_path}: {e}\")\n",
    "\n",
    "df_tracks = pd.DataFrame(tracks)\n",
    "print(f\"Loaded {len(df_tracks)} tracks\")"
   ]
  },
  {
   "cell_type": "code",
   "execution_count": null,
   "id": "d2b52dfc",
   "metadata": {},
   "outputs": [
    {
     "name": "stdout",
     "output_type": "stream",
     "text": [
      "Created 23344 unique features\n",
      "Sample features being created: ['loudness:-14.897', 'loudness:-19.569', 'tempo:99.995', 'duration:220.08118', 'tempo:144.232', 'tempo:83.646', 'tempo:120.005', 'loudness:-8.295', 'tempo:124.577', 'tempo:93.856']\n"
     ]
    }
   ],
   "source": [
    "# prepare item features\n",
    "all_item_features = set()\n",
    "item_features_list = []\n",
    "\n",
    "for row in df_tracks.itertuples(index=False):\n",
    "    features = [\n",
    "        f\"tempo:{row.tempo}\",\n",
    "        f\"loudness:{row.loudness}\",\n",
    "        f\"duration:{row.duration}\",\n",
    "        f\"key:{row.key}\",\n",
    "        f\"mode:{row.mode}\",\n",
    "        f\"time_signature:{row.time_signature}\"\n",
    "    ]\n",
    "    all_item_features.update(features)\n",
    "    item_features_list.append((row.track_id, features))\n",
    "\n",
    "print(f\"Created {len(all_item_features)} unique features\")"
   ]
  },
  {
   "cell_type": "code",
   "execution_count": null,
   "id": "7b8769a7",
   "metadata": {},
   "outputs": [
    {
     "name": "stdout",
     "output_type": "stream",
     "text": [
      "(4412, 10000)\n",
      "(10000, 33344)\n",
      "(4412, 4412)\n"
     ]
    }
   ],
   "source": [
    "dataset = Dataset()\n",
    "dataset.fit(\n",
    "    users=df_tracks['artist_name'].unique(),\n",
    "    items=df_tracks['track_id'].tolist(),\n",
    "    item_features=list(all_item_features)  # Make sure these are the feature strings\n",
    ")\n",
    "\n",
    "users = df_tracks['artist_name'].unique().tolist()  # using artists as users\n",
    "items = df_tracks['track_id'].tolist()\n",
    "user_item_pairs = list(df_tracks[['artist_name', 'track_id']].itertuples(index=False, name=None))\n",
    "interactions, weights = dataset.build_interactions(user_item_pairs)\n",
    "print('created user-item matrix')"
   ]
  },
  {
   "cell_type": "code",
   "execution_count": 8,
   "id": "c76e1358",
   "metadata": {},
   "outputs": [],
   "source": [
    "item_features = dataset.build_item_features(item_features_list)"
   ]
  },
  {
   "cell_type": "code",
   "execution_count": null,
   "id": "14e64de3",
   "metadata": {},
   "outputs": [],
   "source": [
    "# model = LightFM(loss='bpr', no_components=15)\n",
    "# model.fit(interactions, item_features=item_features, epochs=10, num_threads=1)"
   ]
  },
  {
   "cell_type": "code",
   "execution_count": null,
   "id": "898347be",
   "metadata": {},
   "outputs": [],
   "source": []
  }
 ],
 "metadata": {
  "kernelspec": {
   "display_name": "rec_training",
   "language": "python",
   "name": "python3"
  },
  "language_info": {
   "codemirror_mode": {
    "name": "ipython",
    "version": 3
   },
   "file_extension": ".py",
   "mimetype": "text/x-python",
   "name": "python",
   "nbconvert_exporter": "python",
   "pygments_lexer": "ipython3",
   "version": "3.11.13"
  }
 },
 "nbformat": 4,
 "nbformat_minor": 5
}
